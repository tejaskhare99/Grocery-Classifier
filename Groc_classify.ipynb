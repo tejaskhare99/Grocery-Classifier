{
 "cells": [
  {
   "cell_type": "code",
   "execution_count": 8,
   "metadata": {},
   "outputs": [],
   "source": [
    "import cv2\n",
    "import tensorflow as tf\n",
    "import matplotlib.pyplot as plt\n",
    "import pandas as pd\n"
   ]
  },
  {
   "cell_type": "code",
   "execution_count": 39,
   "metadata": {},
   "outputs": [],
   "source": [
    "categories = [\"SUGAR\", \"CAKE\"]\n",
    "\n",
    "def prep_image(path):\n",
    "    img_size = 64\n",
    "    img_array = cv2.imread(path, cv2.IMREAD_GRAYSCALE)\n",
    "    new_array = cv2.resize(img_array, (img_size, img_size))\n",
    "    \n",
    "    return new_array.reshape(-1, img_size, img_size, 1)\n",
    "\n",
    "model = tf.keras.models.load_model(\"Groc-65\")\n"
   ]
  },
  {
   "cell_type": "code",
   "execution_count": 40,
   "metadata": {},
   "outputs": [
    {
     "name": "stdout",
     "output_type": "stream",
     "text": [
      "Please enter number of items:2\n",
      "Please enter the path:D:\\ca.jpg\n",
      "The Image entered is:CAKE\n",
      "Please enter the path:D:\\su.jpg\n",
      "The Image entered is:SUGAR\n",
      "   items  cost\n",
      "0   CAKE   250\n",
      "1  SUGAR   150\n",
      "Total cost is:400\n"
     ]
    }
   ],
   "source": [
    "it_cost = []\n",
    "items = []\n",
    "tot_cost = 0\n",
    "cost = 0\n",
    "number = int(input(\"Please enter number of items:\"))\n",
    "for x in range(0, number):\n",
    "    path = input(\"Please enter the path:\")\n",
    "    prediction = model.predict([prep_image(path)])\n",
    "    print('The Image entered is:' + categories[int(prediction)])\n",
    "    items.append(categories[int(prediction)])\n",
    "    if int(prediction) == 0:\n",
    "        cost = 150\n",
    "        it_cost.append(cost)\n",
    "        tot_cost += cost\n",
    "    else:\n",
    "        cost = 250\n",
    "        it_cost.append(cost)\n",
    "        tot_cost = tot_cost + cost\n",
    "    \n",
    "df = pd.DataFrame({'items':items, 'cost':it_cost})\n",
    "print(df)\n",
    "tot_cost = str(tot_cost)\n",
    "print(\"Total cost is:\" + tot_cost)"
   ]
  },
  {
   "cell_type": "code",
   "execution_count": null,
   "metadata": {},
   "outputs": [],
   "source": []
  }
 ],
 "metadata": {
  "kernelspec": {
   "display_name": "Python 3",
   "language": "python",
   "name": "python3"
  },
  "language_info": {
   "codemirror_mode": {
    "name": "ipython",
    "version": 3
   },
   "file_extension": ".py",
   "mimetype": "text/x-python",
   "name": "python",
   "nbconvert_exporter": "python",
   "pygments_lexer": "ipython3",
   "version": "3.6.9"
  }
 },
 "nbformat": 4,
 "nbformat_minor": 2
}
